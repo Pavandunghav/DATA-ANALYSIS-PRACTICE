{
 "cells": [
  {
   "attachments": {},
   "cell_type": "markdown",
   "metadata": {},
   "source": [
    "# indexing and the conditional selection in the Series \n",
    "\n",
    "import pandas as pd\n",
    "\n",
    "s1=pd.Series([23,34,44,24,56,78,],index='a','v','d','f','t')\n",
    "\n",
    "print(p1)"
   ]
  },
  {
   "cell_type": "code",
   "execution_count": 580,
   "metadata": {},
   "outputs": [
    {
     "name": "stdout",
     "output_type": "stream",
     "text": [
      "a    23\n",
      "v    34\n",
      "d    44\n",
      "f    24\n",
      "t    56\n",
      "r    78\n",
      "dtype: int64\n",
      "t    56\n",
      "r    78\n",
      "dtype: int64\n"
     ]
    }
   ],
   "source": [
    "# indexing and the conditional selection in the Series \n",
    "import matplotlib.pyplot as plt\n",
    "import pandas as pd\n",
    "\n",
    "s1=pd.Series([23,34,44,24,56,78,],index=('a','v','d','f','t','r'))\n",
    "\n",
    "print(s1)\n",
    "\n",
    "print(s1[s1>50])"
   ]
  },
  {
   "cell_type": "code",
   "execution_count": 581,
   "metadata": {},
   "outputs": [
    {
     "name": "stdout",
     "output_type": "stream",
     "text": [
      "a    23\n",
      "v    34\n",
      "d    44\n",
      "f    24\n",
      "t    56\n",
      "r    78\n",
      "Name: something , dtype: int64\n"
     ]
    }
   ],
   "source": [
    "s1.name='something '\n",
    "\n",
    "print(s1)\n"
   ]
  },
  {
   "cell_type": "code",
   "execution_count": null,
   "metadata": {},
   "outputs": [],
   "source": []
  },
  {
   "cell_type": "code",
   "execution_count": 582,
   "metadata": {},
   "outputs": [
    {
     "name": "stdout",
     "output_type": "stream",
     "text": [
      "a    23\n",
      "f    24\n",
      "Name: something , dtype: int64\n"
     ]
    }
   ],
   "source": [
    "# creating the Series from the already created Series \n",
    "\n",
    "\n",
    "s2=pd.Series(s1,('a','f'))\n",
    "print(s2)\n"
   ]
  },
  {
   "cell_type": "code",
   "execution_count": 583,
   "metadata": {},
   "outputs": [
    {
     "name": "stdout",
     "output_type": "stream",
     "text": [
      "d    44\n",
      "f    24\n",
      "t    56\n",
      "Name: something , dtype: int64\n"
     ]
    }
   ],
   "source": [
    "# we can still use or access the any value by using the indexes bu using the \"iloc\" keyword\n",
    "\n",
    "print(s1.iloc[2:5])\n",
    "\n",
    "\n",
    "\n",
    "# this gives the result in the format such that first selected rows gets displayed \n",
    "# we can access any particular rows or the set of rows by using \"iloc\" function \n",
    "# this fucntion is use when we dont know the what indexes are use for the indexing ......\n",
    "\n",
    "\n",
    "\n",
    "\n",
    "\n"
   ]
  },
  {
   "cell_type": "code",
   "execution_count": null,
   "metadata": {},
   "outputs": [],
   "source": []
  },
  {
   "cell_type": "code",
   "execution_count": 584,
   "metadata": {},
   "outputs": [
    {
     "data": {
      "text/plain": [
       "v    34\n",
       "d    44\n",
       "f    24\n",
       "t    56\n",
       "r    78\n",
       "Name: something , dtype: int64"
      ]
     },
     "execution_count": 584,
     "metadata": {},
     "output_type": "execute_result"
    }
   ],
   "source": [
    "s1[1:6]"
   ]
  },
  {
   "cell_type": "code",
   "execution_count": 585,
   "metadata": {},
   "outputs": [],
   "source": [
    "# we can directly do such slicing by using the slicing methods as shown above \n",
    "\n",
    "\n",
    "\n",
    "\n",
    "\n",
    "\n",
    "\n"
   ]
  },
  {
   "cell_type": "code",
   "execution_count": 586,
   "metadata": {},
   "outputs": [
    {
     "name": "stdout",
     "output_type": "stream",
     "text": [
      "a      23\n",
      "b      56\n",
      "c      45\n",
      "d     321\n",
      "e    4553\n",
      "f     789\n",
      "g      99\n",
      "dtype: int64\n",
      "b    56\n",
      "c    45\n",
      "dtype: int64\n",
      "a    False\n",
      "b     True\n",
      "c    False\n",
      "d     True\n",
      "e     True\n",
      "f     True\n",
      "g     True\n",
      "dtype: bool\n",
      "a    46.0\n",
      "b     NaN\n",
      "c    90.0\n",
      "d     NaN\n",
      "e     NaN\n",
      "f     NaN\n",
      "g     NaN\n",
      "dtype: float64\n",
      "HI\n",
      "Series([], dtype: int64)\n",
      "a     23\n",
      "b     56\n",
      "c     45\n",
      "d    MAX\n",
      "e    MAX\n",
      "f    MAX\n",
      "g     99\n",
      "dtype: object\n"
     ]
    }
   ],
   "source": [
    "# here is the conditional selecction \n",
    "\n",
    "\n",
    "\n",
    "\n",
    "s3=pd.Series([23,56,45,321,4553,789,99],index=('a','b','c','d','e','f','g'))\n",
    "print(s3)\n",
    "\n",
    "\n",
    "\n",
    "s4=pd.Series(s3[1:3])\n",
    "\n",
    "print(s4)\n",
    "\n",
    "print((s3 > 50))\n",
    "print(s3[s3 < 50]+s3)\n",
    "\n",
    "\n",
    "print(\"HI\")\n",
    "\n",
    "print(s3[(s3 > 100)  & (s3 < 50)])\n",
    "\n",
    "\n",
    "\n",
    "s3[s3>100]=\"MAX\"\n",
    "\n",
    "print(s3)\n",
    "\n",
    "\n"
   ]
  },
  {
   "cell_type": "code",
   "execution_count": 587,
   "metadata": {},
   "outputs": [
    {
     "name": "stdout",
     "output_type": "stream",
     "text": [
      "a     23\n",
      "b     56\n",
      "c     45\n",
      "d    max\n",
      "e    max\n",
      "f    max\n",
      "g     99\n",
      "dtype: object\n"
     ]
    }
   ],
   "source": [
    "\n",
    "#print(\"HI\")\n",
    "\n",
    "#print(s3[(s3 > 100)  & (s3 < 50)])\n",
    "\n",
    "\n",
    "s3=pd.Series([23,56,45,321,4553,789,99],index=('a','b','c','d','e','f','g'))\n",
    "s3[s3 > 100]=\"max\"\n",
    "\n",
    "print(s3)\n",
    "\n"
   ]
  },
  {
   "cell_type": "code",
   "execution_count": 588,
   "metadata": {},
   "outputs": [
    {
     "name": "stdout",
     "output_type": "stream",
     "text": [
      "0      0\n",
      "1      1\n",
      "8      4\n",
      "27     9\n",
      "64    16\n",
      "dtype: int64\n",
      "THE MEAN IS : 6.0\n",
      "the standard deviation is : 6.59545297913646\n",
      "THE MEDIAN IS  4.0\n"
     ]
    }
   ],
   "source": [
    "l1=[]\n",
    "\n",
    "for i in range(5):\n",
    "    \n",
    "   l1.append(i*i)\n",
    "    \n",
    "    \n",
    "l2=[]\n",
    "\n",
    "for i in range(5):\n",
    "    l2.append(i*i*i)\n",
    "    \n",
    "    \n",
    "\n",
    "s4=pd.Series(l1,index=(l2))\n",
    "\n",
    "\n",
    "print(s4)\n",
    "\n",
    "print(\"THE MEAN IS :\" ,s4.mean())\n",
    "\n",
    "print(\"the standard deviation is :\",s4.std())\n",
    "print(\"THE MEDIAN IS \",s4.median())\n"
   ]
  },
  {
   "cell_type": "code",
   "execution_count": 589,
   "metadata": {},
   "outputs": [
    {
     "name": "stdout",
     "output_type": "stream",
     "text": [
      "[0, 0, 0, 0, 0, 0, 0, 0, 0, 0]\n",
      "0     0\n",
      "1     1\n",
      "4     2\n",
      "9     3\n",
      "16    4\n",
      "25    5\n",
      "36    6\n",
      "49    7\n",
      "64    8\n",
      "81    9\n",
      "dtype: int64\n"
     ]
    }
   ],
   "source": [
    "l3=[0]*10\n",
    "\n",
    "l4=[0]*10\n",
    "print(l3)\n",
    "\n",
    "\n",
    "for i in range(10):\n",
    "    l3[i]=i\n",
    "    \n",
    "    \n",
    "for i in range(10):\n",
    "    l4[i]=l3[i]*l3[i]\n",
    "    \n",
    "    \n",
    "    \n",
    "    \n",
    "s5=pd.Series(l3,index=(l4))\n",
    "\n",
    "\n",
    "print(s5)\n",
    "    "
   ]
  },
  {
   "attachments": {},
   "cell_type": "markdown",
   "metadata": {},
   "source": [
    "# DATAFRAMES \n",
    "\n"
   ]
  },
  {
   "cell_type": "code",
   "execution_count": 590,
   "metadata": {},
   "outputs": [
    {
     "name": "stdout",
     "output_type": "stream",
     "text": [
      "[0, 1, 2, 3, 4, 5, 6, 7, 8, 9]\n",
      "[0, 2, 4, 6, 8, 10, 12, 14, 16, 18]\n",
      "[0, 3, 6, 9, 12, 15, 18, 21, 24, 27]\n",
      "[0, 4, 8, 12, 16, 20, 24, 28, 32, 36]\n",
      "        Sr.no  Name  marks  scores\n",
      "(0, p)      0     0      0       0\n",
      "(1, p)      1     2      3       4\n",
      "(2, p)      2     4      6       8\n",
      "(3, p)      3     6      9      12\n",
      "(4, p)      4     8     12      16\n",
      "(5, p)      5    10     15      20\n",
      "(6, p)      6    12     18      24\n",
      "(7, p)      7    14     21      28\n",
      "(8, p)      8    16     24      32\n",
      "(9, p)      9    18     27      36\n"
     ]
    }
   ],
   "source": [
    "li1=[0]*10\n",
    "li2=[0]*10\n",
    "li3=[0]*10\n",
    "li4=[0]*10\n",
    "li5=[0]*10\n",
    "for i in range(10):\n",
    "    li1[i]=i\n",
    "    \n",
    "    \n",
    "for i in range(10):\n",
    "    li2[i]=i*2\n",
    "    \n",
    "for i in range(10):\n",
    "        li3[i]=i*3\n",
    "    \n",
    "for i in range(10):\n",
    "        li4[i]=i*4\n",
    "        \n",
    "for i in range(10):\n",
    "    li5[i]=i,\"p\"\n",
    "    \n",
    "print(li1)\n",
    "print(li2)\n",
    "print(li3)\n",
    "print(li4)\n",
    "\n",
    "    \n",
    "\n",
    "d1=pd.DataFrame({'Sr.no' :li1 ,'Name':li2 ,'marks':li3,'scores':li4}, index=li5)\n",
    "\n",
    "print(d1)"
   ]
  },
  {
   "cell_type": "code",
   "execution_count": 591,
   "metadata": {},
   "outputs": [
    {
     "data": {
      "text/plain": [
       "40"
      ]
     },
     "execution_count": 591,
     "metadata": {},
     "output_type": "execute_result"
    }
   ],
   "source": [
    "\n",
    "# Dataframe methods \n",
    "\n",
    "\n",
    "d1.size\n"
   ]
  },
  {
   "cell_type": "code",
   "execution_count": null,
   "metadata": {},
   "outputs": [],
   "source": []
  },
  {
   "cell_type": "code",
   "execution_count": 592,
   "metadata": {},
   "outputs": [
    {
     "name": "stdout",
     "output_type": "stream",
     "text": [
      "<class 'pandas.core.frame.DataFrame'>\n",
      "Index: 10 entries, (0, 'p') to (9, 'p')\n",
      "Data columns (total 4 columns):\n",
      " #   Column  Non-Null Count  Dtype\n",
      "---  ------  --------------  -----\n",
      " 0   Sr.no   10 non-null     int64\n",
      " 1   Name    10 non-null     int64\n",
      " 2   marks   10 non-null     int64\n",
      " 3   scores  10 non-null     int64\n",
      "dtypes: int64(4)\n",
      "memory usage: 400.0+ bytes\n"
     ]
    }
   ],
   "source": [
    "d1.info()"
   ]
  },
  {
   "cell_type": "code",
   "execution_count": null,
   "metadata": {},
   "outputs": [],
   "source": []
  },
  {
   "cell_type": "code",
   "execution_count": null,
   "metadata": {},
   "outputs": [],
   "source": []
  },
  {
   "cell_type": "code",
   "execution_count": null,
   "metadata": {},
   "outputs": [],
   "source": []
  },
  {
   "cell_type": "code",
   "execution_count": 593,
   "metadata": {},
   "outputs": [
    {
     "data": {
      "text/plain": [
       "Index([(0, 'p'), (1, 'p'), (2, 'p'), (3, 'p'), (4, 'p'), (5, 'p'), (6, 'p'),\n",
       "       (7, 'p'), (8, 'p'), (9, 'p')],\n",
       "      dtype='object')"
      ]
     },
     "execution_count": 593,
     "metadata": {},
     "output_type": "execute_result"
    }
   ],
   "source": [
    "d1.index"
   ]
  },
  {
   "cell_type": "code",
   "execution_count": 594,
   "metadata": {},
   "outputs": [
    {
     "data": {
      "text/plain": [
       "(10, 4)"
      ]
     },
     "execution_count": 594,
     "metadata": {},
     "output_type": "execute_result"
    }
   ],
   "source": [
    "\n",
    "d1.shape"
   ]
  },
  {
   "cell_type": "code",
   "execution_count": 595,
   "metadata": {},
   "outputs": [
    {
     "data": {
      "text/html": [
       "<div>\n",
       "<style scoped>\n",
       "    .dataframe tbody tr th:only-of-type {\n",
       "        vertical-align: middle;\n",
       "    }\n",
       "\n",
       "    .dataframe tbody tr th {\n",
       "        vertical-align: top;\n",
       "    }\n",
       "\n",
       "    .dataframe thead th {\n",
       "        text-align: right;\n",
       "    }\n",
       "</style>\n",
       "<table border=\"1\" class=\"dataframe\">\n",
       "  <thead>\n",
       "    <tr style=\"text-align: right;\">\n",
       "      <th></th>\n",
       "      <th>Sr.no</th>\n",
       "      <th>Name</th>\n",
       "      <th>marks</th>\n",
       "      <th>scores</th>\n",
       "    </tr>\n",
       "  </thead>\n",
       "  <tbody>\n",
       "    <tr>\n",
       "      <th>count</th>\n",
       "      <td>10.00000</td>\n",
       "      <td>10.000000</td>\n",
       "      <td>10.000000</td>\n",
       "      <td>10.000000</td>\n",
       "    </tr>\n",
       "    <tr>\n",
       "      <th>mean</th>\n",
       "      <td>4.50000</td>\n",
       "      <td>9.000000</td>\n",
       "      <td>13.500000</td>\n",
       "      <td>18.000000</td>\n",
       "    </tr>\n",
       "    <tr>\n",
       "      <th>std</th>\n",
       "      <td>3.02765</td>\n",
       "      <td>6.055301</td>\n",
       "      <td>9.082951</td>\n",
       "      <td>12.110601</td>\n",
       "    </tr>\n",
       "    <tr>\n",
       "      <th>min</th>\n",
       "      <td>0.00000</td>\n",
       "      <td>0.000000</td>\n",
       "      <td>0.000000</td>\n",
       "      <td>0.000000</td>\n",
       "    </tr>\n",
       "    <tr>\n",
       "      <th>25%</th>\n",
       "      <td>2.25000</td>\n",
       "      <td>4.500000</td>\n",
       "      <td>6.750000</td>\n",
       "      <td>9.000000</td>\n",
       "    </tr>\n",
       "    <tr>\n",
       "      <th>50%</th>\n",
       "      <td>4.50000</td>\n",
       "      <td>9.000000</td>\n",
       "      <td>13.500000</td>\n",
       "      <td>18.000000</td>\n",
       "    </tr>\n",
       "    <tr>\n",
       "      <th>75%</th>\n",
       "      <td>6.75000</td>\n",
       "      <td>13.500000</td>\n",
       "      <td>20.250000</td>\n",
       "      <td>27.000000</td>\n",
       "    </tr>\n",
       "    <tr>\n",
       "      <th>max</th>\n",
       "      <td>9.00000</td>\n",
       "      <td>18.000000</td>\n",
       "      <td>27.000000</td>\n",
       "      <td>36.000000</td>\n",
       "    </tr>\n",
       "  </tbody>\n",
       "</table>\n",
       "</div>"
      ],
      "text/plain": [
       "          Sr.no       Name      marks     scores\n",
       "count  10.00000  10.000000  10.000000  10.000000\n",
       "mean    4.50000   9.000000  13.500000  18.000000\n",
       "std     3.02765   6.055301   9.082951  12.110601\n",
       "min     0.00000   0.000000   0.000000   0.000000\n",
       "25%     2.25000   4.500000   6.750000   9.000000\n",
       "50%     4.50000   9.000000  13.500000  18.000000\n",
       "75%     6.75000  13.500000  20.250000  27.000000\n",
       "max     9.00000  18.000000  27.000000  36.000000"
      ]
     },
     "execution_count": 595,
     "metadata": {},
     "output_type": "execute_result"
    }
   ],
   "source": [
    "d1.describe()"
   ]
  },
  {
   "cell_type": "code",
   "execution_count": 596,
   "metadata": {},
   "outputs": [
    {
     "name": "stdout",
     "output_type": "stream",
     "text": [
      "[0, 1, 2, 3, 4, 5, 6, 7, 8, 9]\n",
      "[0, 2, 4, 6, 8, 10, 12, 14, 16, 18]\n",
      "[0, 3, 6, 9, 12, 15, 18, 21, 24, 27]\n",
      "[0, 4, 8, 12, 16, 20, 24, 28, 32, 36]\n",
      "        Sr.no  Name  marks  scores\n",
      "(0, p)      0     0      0       0\n",
      "(1, p)      1     2      3       4\n",
      "(2, p)      2     4      6       8\n",
      "(3, p)      3     6      9      12\n",
      "(4, p)      4     8     12      16\n",
      "(5, p)      5    10     15      20\n",
      "(6, p)      6    12     18      24\n",
      "(7, p)      7    14     21      28\n",
      "(8, p)      8    16     24      32\n",
      "(9, p)      9    18     27      36\n"
     ]
    },
    {
     "data": {
      "text/plain": [
       "(0, p)     0\n",
       "(1, p)     3\n",
       "(2, p)     6\n",
       "(3, p)     9\n",
       "(4, p)    12\n",
       "(5, p)    15\n",
       "(6, p)    18\n",
       "(7, p)    21\n",
       "(8, p)    24\n",
       "(9, p)    27\n",
       "Name: marks, dtype: int64"
      ]
     },
     "execution_count": 596,
     "metadata": {},
     "output_type": "execute_result"
    }
   ],
   "source": [
    "\n",
    "\n",
    "\n",
    "li1=[0]*10\n",
    "li2=[0]*10\n",
    "li3=[0]*10\n",
    "li4=[0]*10\n",
    "li5=[0]*10\n",
    "for i in range(10):\n",
    "    li1[i]=i\n",
    "    \n",
    "    \n",
    "for i in range(10):\n",
    "    li2[i]=i*2\n",
    "    \n",
    "for i in range(10):\n",
    "        li3[i]=i*3\n",
    "    \n",
    "for i in range(10):\n",
    "        li4[i]=i*4\n",
    "        \n",
    "for i in range(10):\n",
    "    li5[i]=i,\"p\"\n",
    "    \n",
    "print(li1)\n",
    "print(li2)\n",
    "print(li3)\n",
    "print(li4)\n",
    "\n",
    "    \n",
    "\n",
    "d1=pd.DataFrame({'Sr.no' :li1 ,'Name':li2 ,'marks':li3,'scores':li4}, index=li5)\n",
    "\n",
    "print(d1)\n",
    "\n",
    "#d1.loc['(0, 5)']\n",
    "\n",
    "d1.iloc[2]\n",
    "d1['marks']"
   ]
  },
  {
   "cell_type": "code",
   "execution_count": 597,
   "metadata": {},
   "outputs": [
    {
     "data": {
      "text/plain": [
       "Sr.no     2\n",
       "Name      4\n",
       "marks     6\n",
       "scores    8\n",
       "Name: (2, p), dtype: int64"
      ]
     },
     "execution_count": 597,
     "metadata": {},
     "output_type": "execute_result"
    }
   ],
   "source": [
    "d1.iloc[2]"
   ]
  },
  {
   "cell_type": "code",
   "execution_count": 598,
   "metadata": {},
   "outputs": [
    {
     "name": "stdout",
     "output_type": "stream",
     "text": [
      "    hlll1   hlll2   hlll3   hlll4\n",
      "h1      2    5473   34215    3241\n",
      "h2    342    6537  453634  653333\n",
      "h3     56  256254     856   76567\n",
      "h4     74      75      98  748786\n",
      "    hlll1   hlll2   hlll3   hlll4   si1\n",
      "h1      2    5473   34215    3241   234\n",
      "h2    342    6537  453634  653333  5454\n",
      "h3     56  256254     856   76567   653\n",
      "h4     74      75      98  748786  7675\n"
     ]
    }
   ],
   "source": [
    "names=['h1','h2','h3','h4']\n",
    "\n",
    "\n",
    "si1=pd.Series([234,5454,653,7675],index=names)\n",
    "\n",
    "di1=pd.DataFrame({'hlll1':[2,342,56,74],'hlll2':[5473,6537,256254,75],'hlll3':[34215,453634,856,98],'hlll4':[3241,653333,76567,748786]},index=names)\n",
    "\n",
    "\n",
    "\n",
    "print(di1)\n",
    "\n",
    "di1['si1']=si1\n",
    "\n",
    "print(di1)"
   ]
  },
  {
   "cell_type": "code",
   "execution_count": 599,
   "metadata": {},
   "outputs": [
    {
     "name": "stdout",
     "output_type": "stream",
     "text": [
      "   names  value  marks   score\n",
      "0     p1      1     23     342\n",
      "1     p2      2     34   56265\n",
      "4     p3      3     54  265652\n",
      "9     p4      4     57    6234\n",
      "16    p5      5    567     774\n",
      "   names  value  marks   score  data=marks/value\n",
      "0     p1      1     23     342             23.00\n",
      "1     p2      2     34   56265             17.00\n",
      "4     p3      3     54  265652             18.00\n",
      "9     p4      4     57    6234             14.25\n",
      "16    p5      5    567     774            113.40\n"
     ]
    }
   ],
   "source": [
    "# pandas column creating by usig previous columns \n",
    "'''\n",
    "l=[0]*5\n",
    "\n",
    "for i in range(5):\n",
    "    l[i]=i*i\n",
    "    \n",
    "    '''\n",
    "    \n",
    "l=[i*i for i in range(5)]\n",
    "\n",
    "\n",
    "dl1=pd.DataFrame({'names':[\"p1\",\"p2\",\"p3\",\"p4\",\"p5\"],'value':[1,2,3,4,5],'marks':[23,34,54,57,567],'score':[342,56265,265652,6234,774]},index=l)\n",
    "print(dl1)\n",
    "\n",
    "dl1['data=marks/value']=dl1['marks']/dl1['value']\n",
    "\n",
    "print(dl1)\n",
    "\n",
    "\n",
    "\n",
    "\n",
    "\n"
   ]
  },
  {
   "cell_type": "code",
   "execution_count": 600,
   "metadata": {},
   "outputs": [],
   "source": [
    "# some important   statastical  methods \n"
   ]
  },
  {
   "cell_type": "code",
   "execution_count": 601,
   "metadata": {},
   "outputs": [
    {
     "data": {
      "text/html": [
       "<div>\n",
       "<style scoped>\n",
       "    .dataframe tbody tr th:only-of-type {\n",
       "        vertical-align: middle;\n",
       "    }\n",
       "\n",
       "    .dataframe tbody tr th {\n",
       "        vertical-align: top;\n",
       "    }\n",
       "\n",
       "    .dataframe thead th {\n",
       "        text-align: right;\n",
       "    }\n",
       "</style>\n",
       "<table border=\"1\" class=\"dataframe\">\n",
       "  <thead>\n",
       "    <tr style=\"text-align: right;\">\n",
       "      <th></th>\n",
       "      <th>value</th>\n",
       "      <th>marks</th>\n",
       "      <th>score</th>\n",
       "      <th>data=marks/value</th>\n",
       "    </tr>\n",
       "  </thead>\n",
       "  <tbody>\n",
       "    <tr>\n",
       "      <th>count</th>\n",
       "      <td>5.000000</td>\n",
       "      <td>5.000000</td>\n",
       "      <td>5.000000</td>\n",
       "      <td>5.000000</td>\n",
       "    </tr>\n",
       "    <tr>\n",
       "      <th>mean</th>\n",
       "      <td>3.000000</td>\n",
       "      <td>147.000000</td>\n",
       "      <td>65853.400000</td>\n",
       "      <td>37.130000</td>\n",
       "    </tr>\n",
       "    <tr>\n",
       "      <th>std</th>\n",
       "      <td>1.581139</td>\n",
       "      <td>235.209481</td>\n",
       "      <td>114119.414066</td>\n",
       "      <td>42.753474</td>\n",
       "    </tr>\n",
       "    <tr>\n",
       "      <th>min</th>\n",
       "      <td>1.000000</td>\n",
       "      <td>23.000000</td>\n",
       "      <td>342.000000</td>\n",
       "      <td>14.250000</td>\n",
       "    </tr>\n",
       "    <tr>\n",
       "      <th>25%</th>\n",
       "      <td>2.000000</td>\n",
       "      <td>34.000000</td>\n",
       "      <td>774.000000</td>\n",
       "      <td>17.000000</td>\n",
       "    </tr>\n",
       "    <tr>\n",
       "      <th>50%</th>\n",
       "      <td>3.000000</td>\n",
       "      <td>54.000000</td>\n",
       "      <td>6234.000000</td>\n",
       "      <td>18.000000</td>\n",
       "    </tr>\n",
       "    <tr>\n",
       "      <th>75%</th>\n",
       "      <td>4.000000</td>\n",
       "      <td>57.000000</td>\n",
       "      <td>56265.000000</td>\n",
       "      <td>23.000000</td>\n",
       "    </tr>\n",
       "    <tr>\n",
       "      <th>max</th>\n",
       "      <td>5.000000</td>\n",
       "      <td>567.000000</td>\n",
       "      <td>265652.000000</td>\n",
       "      <td>113.400000</td>\n",
       "    </tr>\n",
       "  </tbody>\n",
       "</table>\n",
       "</div>"
      ],
      "text/plain": [
       "          value       marks          score  data=marks/value\n",
       "count  5.000000    5.000000       5.000000          5.000000\n",
       "mean   3.000000  147.000000   65853.400000         37.130000\n",
       "std    1.581139  235.209481  114119.414066         42.753474\n",
       "min    1.000000   23.000000     342.000000         14.250000\n",
       "25%    2.000000   34.000000     774.000000         17.000000\n",
       "50%    3.000000   54.000000    6234.000000         18.000000\n",
       "75%    4.000000   57.000000   56265.000000         23.000000\n",
       "max    5.000000  567.000000  265652.000000        113.400000"
      ]
     },
     "execution_count": 601,
     "metadata": {},
     "output_type": "execute_result"
    }
   ],
   "source": [
    "dl1.describe()"
   ]
  },
  {
   "cell_type": "code",
   "execution_count": 602,
   "metadata": {},
   "outputs": [
    {
     "name": "stdout",
     "output_type": "stream",
     "text": [
      "   names  value  marks   score  data=marks/value\n",
      "0     p1      1     23     342             23.00\n",
      "1     p2      2     34   56265             17.00\n",
      "4     p3      3     54  265652             18.00\n",
      "9     p4      4     57    6234             14.25\n",
      "16    p5      5    567     774            113.40\n",
      "5     p1      1     23     342             14.25\n"
     ]
    }
   ],
   "source": [
    "dl1.min()\n",
    "\n",
    "dl1.loc[len(dl1)]=dl1.min()\n",
    "\n",
    "#dl1.loc[len(dl1)]=dl1({},index=\"min\")\n",
    "print(dl1)"
   ]
  },
  {
   "cell_type": "code",
   "execution_count": 603,
   "metadata": {},
   "outputs": [
    {
     "name": "stdout",
     "output_type": "stream",
     "text": [
      "   names  value  marks   score  data=marks/value\n",
      "0     p1      1     23     342             23.00\n",
      "1     p2      2     34   56265             17.00\n",
      "4     p3      3     54  265652             18.00\n",
      "9     p4      4     57    6234             14.25\n",
      "16    p5      5    567     774            113.40\n",
      "5     p1      1     23     342             14.25\n",
      "6     p5      5    567  265652            113.40\n"
     ]
    }
   ],
   "source": [
    "dl1.max()\n",
    "\n",
    "dl1.loc[len(dl1)]=dl1.max()\n",
    "print(dl1)"
   ]
  },
  {
   "cell_type": "code",
   "execution_count": 604,
   "metadata": {},
   "outputs": [
    {
     "name": "stdout",
     "output_type": "stream",
     "text": [
      "             names  value  marks   score  data=marks/value\n",
      "0               p1      1     23     342             23.00\n",
      "1               p2      2     34   56265             17.00\n",
      "4               p3      3     54  265652             18.00\n",
      "9               p4      4     57    6234             14.25\n",
      "16              p5      5    567     774            113.40\n",
      "5               p1      1     23     342             14.25\n",
      "6               p5      5    567  265652            113.40\n",
      "7   p1p2p3p4p5p1p5     21   1325  595261            313.30\n"
     ]
    }
   ],
   "source": [
    "dl1.sum()\n",
    "\n",
    "\n",
    "\n",
    "\n",
    "\n",
    "\n",
    "\n",
    "\n",
    "\n",
    "\n",
    "\n",
    "dl1.loc[len(dl1)]=dl1.sum()\n",
    "print(dl1)\n"
   ]
  },
  {
   "cell_type": "code",
   "execution_count": null,
   "metadata": {},
   "outputs": [],
   "source": []
  },
  {
   "cell_type": "code",
   "execution_count": 605,
   "metadata": {},
   "outputs": [
    {
     "name": "stderr",
     "output_type": "stream",
     "text": [
      "C:\\Users\\pavan\\AppData\\Local\\Temp\\ipykernel_14668\\275254369.py:1: FutureWarning: The default value of numeric_only in DataFrame.mean is deprecated. In a future version, it will default to False. In addition, specifying 'numeric_only=None' is deprecated. Select only valid columns or specify the value of numeric_only to silence this warning.\n",
      "  dl1.mean()\n"
     ]
    },
    {
     "data": {
      "text/plain": [
       "value                    5.250\n",
       "marks                  331.250\n",
       "score               148815.250\n",
       "data=marks/value        78.325\n",
       "dtype: float64"
      ]
     },
     "execution_count": 605,
     "metadata": {},
     "output_type": "execute_result"
    }
   ],
   "source": [
    "dl1.mean()"
   ]
  },
  {
   "cell_type": "code",
   "execution_count": 606,
   "metadata": {},
   "outputs": [
    {
     "name": "stderr",
     "output_type": "stream",
     "text": [
      "C:\\Users\\pavan\\AppData\\Local\\Temp\\ipykernel_14668\\1712983983.py:1: FutureWarning: The default value of numeric_only in DataFrame.median is deprecated. In a future version, it will default to False. In addition, specifying 'numeric_only=None' is deprecated. Select only valid columns or specify the value of numeric_only to silence this warning.\n",
      "  dl1.median()\n"
     ]
    },
    {
     "data": {
      "text/plain": [
       "value                   3.5\n",
       "marks                  55.5\n",
       "score               31249.5\n",
       "data=marks/value       20.5\n",
       "dtype: float64"
      ]
     },
     "execution_count": 606,
     "metadata": {},
     "output_type": "execute_result"
    }
   ],
   "source": [
    "dl1.median()"
   ]
  },
  {
   "cell_type": "code",
   "execution_count": 607,
   "metadata": {},
   "outputs": [
    {
     "name": "stderr",
     "output_type": "stream",
     "text": [
      "C:\\Users\\pavan\\AppData\\Local\\Temp\\ipykernel_14668\\3766234008.py:1: FutureWarning: The default value of numeric_only in DataFrame.std is deprecated. In a future version, it will default to False. In addition, specifying 'numeric_only=None' is deprecated. Select only valid columns or specify the value of numeric_only to silence this warning.\n",
      "  dl1.std()\n"
     ]
    },
    {
     "data": {
      "text/plain": [
       "value                    6.562883\n",
       "marks                  467.389330\n",
       "score               214314.603613\n",
       "data=marks/value       104.434320\n",
       "dtype: float64"
      ]
     },
     "execution_count": 607,
     "metadata": {},
     "output_type": "execute_result"
    }
   ],
   "source": [
    "dl1.std()"
   ]
  },
  {
   "cell_type": "code",
   "execution_count": 608,
   "metadata": {},
   "outputs": [
    {
     "name": "stderr",
     "output_type": "stream",
     "text": [
      "C:\\Users\\pavan\\AppData\\Local\\Temp\\ipykernel_14668\\2989543078.py:1: FutureWarning: The default value of numeric_only in DataFrame.quantile is deprecated. In a future version, it will default to False. Select only valid columns or specify the value of numeric_only to silence this warning.\n",
      "  dl1.quantile()\n"
     ]
    },
    {
     "data": {
      "text/plain": [
       "value                   3.5\n",
       "marks                  55.5\n",
       "score               31249.5\n",
       "data=marks/value       20.5\n",
       "Name: 0.5, dtype: float64"
      ]
     },
     "execution_count": 608,
     "metadata": {},
     "output_type": "execute_result"
    }
   ],
   "source": [
    "dl1.quantile()\n",
    "\n"
   ]
  },
  {
   "cell_type": "code",
   "execution_count": 609,
   "metadata": {},
   "outputs": [
    {
     "name": "stdout",
     "output_type": "stream",
     "text": [
      "                 SERIAL     TIME       MARKS        SOME  RESULT   QUANT  \\\n",
      "0      Series_reference   Period  Data_value  Suppressed  STATUS   UNITS   \n",
      "1           BDCQ.SEA1AA  2011.06       80078         NaN       F  Number   \n",
      "2           BDCQ.SEA1AA  2011.09       78324         NaN       F  Number   \n",
      "3           BDCQ.SEA1AA  2011.12       85850         NaN       F  Number   \n",
      "4           BDCQ.SEA1AA  2012.03       90743         NaN       F  Number   \n",
      "...                 ...      ...         ...         ...     ...     ...   \n",
      "20637     BDCQ.SEE3999A  2017.06         NaN           Y       C  Number   \n",
      "20638     BDCQ.SEE3999A  2017.09         NaN           Y       C  Number   \n",
      "20639     BDCQ.SEE3999A  2017.12         NaN           Y       C  Number   \n",
      "20640     BDCQ.SEE3999A  2018.03         NaN           Y       C  Number   \n",
      "20641     BDCQ.SEE3999A  2018.06         NaN           Y       C  Number   \n",
      "\n",
      "           SCORE                      SPECIALITY  \\\n",
      "0      Magnitude                         Subject   \n",
      "1              0  Business Data Collection - BDC   \n",
      "2              0  Business Data Collection - BDC   \n",
      "3              0  Business Data Collection - BDC   \n",
      "4              0  Business Data Collection - BDC   \n",
      "...          ...                             ...   \n",
      "20637          0  Business Data Collection - BDC   \n",
      "20638          0  Business Data Collection - BDC   \n",
      "20639          0  Business Data Collection - BDC   \n",
      "20640          0  Business Data Collection - BDC   \n",
      "20641          0  Business Data Collection - BDC   \n",
      "\n",
      "                                               TEAM  \\\n",
      "0                                             Group   \n",
      "1                   Industry by employment variable   \n",
      "2                   Industry by employment variable   \n",
      "3                   Industry by employment variable   \n",
      "4                   Industry by employment variable   \n",
      "...                                             ...   \n",
      "20637  Territorial authority by employment variable   \n",
      "20638  Territorial authority by employment variable   \n",
      "20639  Territorial authority by employment variable   \n",
      "20640  Territorial authority by employment variable   \n",
      "20641  Territorial authority by employment variable   \n",
      "\n",
      "                                         TAGS  \\\n",
      "0                              Series_title_1   \n",
      "1                                 Filled jobs   \n",
      "2                                 Filled jobs   \n",
      "3                                 Filled jobs   \n",
      "4                                 Filled jobs   \n",
      "...                                       ...   \n",
      "20637  Filled jobs (workplace location based)   \n",
      "20638  Filled jobs (workplace location based)   \n",
      "20639  Filled jobs (workplace location based)   \n",
      "20640  Filled jobs (workplace location based)   \n",
      "20641  Filled jobs (workplace location based)   \n",
      "\n",
      "                               DEPARTMENT           STATE     Unnamed: 12  \\\n",
      "0                          Series_title_2  Series_title_3  Series_title_4   \n",
      "1       Agriculture, Forestry and Fishing          Actual             NaN   \n",
      "2       Agriculture, Forestry and Fishing          Actual             NaN   \n",
      "3       Agriculture, Forestry and Fishing          Actual             NaN   \n",
      "4       Agriculture, Forestry and Fishing          Actual             NaN   \n",
      "...                                   ...             ...             ...   \n",
      "20637  Area Outside Territorial Authority          Actual             NaN   \n",
      "20638  Area Outside Territorial Authority          Actual             NaN   \n",
      "20639  Area Outside Territorial Authority          Actual             NaN   \n",
      "20640  Area Outside Territorial Authority          Actual             NaN   \n",
      "20641  Area Outside Territorial Authority          Actual             NaN   \n",
      "\n",
      "          Unnamed: 13  \n",
      "0      Series_title_5  \n",
      "1                 NaN  \n",
      "2                 NaN  \n",
      "3                 NaN  \n",
      "4                 NaN  \n",
      "...               ...  \n",
      "20637             NaN  \n",
      "20638             NaN  \n",
      "20639             NaN  \n",
      "20640             NaN  \n",
      "20641             NaN  \n",
      "\n",
      "[20642 rows x 14 columns]\n"
     ]
    }
   ],
   "source": [
    "## reading the data from the external sources \n",
    "\n",
    "f1=pd.read_csv('Business-employment-data-september-2022-quarter-csv.csv')\n",
    "print(f1)\n",
    "\n"
   ]
  },
  {
   "cell_type": "code",
   "execution_count": 610,
   "metadata": {},
   "outputs": [
    {
     "name": "stdout",
     "output_type": "stream",
     "text": [
      "             SERIAL     TIME       MARKS        SOME  RESULT   QUANT  \\\n",
      "0  Series_reference   Period  Data_value  Suppressed  STATUS   UNITS   \n",
      "1       BDCQ.SEA1AA  2011.06       80078         NaN       F  Number   \n",
      "2       BDCQ.SEA1AA  2011.09       78324         NaN       F  Number   \n",
      "3       BDCQ.SEA1AA  2011.12       85850         NaN       F  Number   \n",
      "4       BDCQ.SEA1AA  2012.03       90743         NaN       F  Number   \n",
      "\n",
      "       SCORE                      SPECIALITY                             TEAM  \\\n",
      "0  Magnitude                         Subject                            Group   \n",
      "1          0  Business Data Collection - BDC  Industry by employment variable   \n",
      "2          0  Business Data Collection - BDC  Industry by employment variable   \n",
      "3          0  Business Data Collection - BDC  Industry by employment variable   \n",
      "4          0  Business Data Collection - BDC  Industry by employment variable   \n",
      "\n",
      "             TAGS                         DEPARTMENT           STATE  \\\n",
      "0  Series_title_1                     Series_title_2  Series_title_3   \n",
      "1     Filled jobs  Agriculture, Forestry and Fishing          Actual   \n",
      "2     Filled jobs  Agriculture, Forestry and Fishing          Actual   \n",
      "3     Filled jobs  Agriculture, Forestry and Fishing          Actual   \n",
      "4     Filled jobs  Agriculture, Forestry and Fishing          Actual   \n",
      "\n",
      "      Unnamed: 12     Unnamed: 13  \n",
      "0  Series_title_4  Series_title_5  \n",
      "1             NaN             NaN  \n",
      "2             NaN             NaN  \n",
      "3             NaN             NaN  \n",
      "4             NaN             NaN  \n"
     ]
    }
   ],
   "source": [
    "print(f1.head())"
   ]
  },
  {
   "cell_type": "code",
   "execution_count": 611,
   "metadata": {},
   "outputs": [
    {
     "data": {
      "text/plain": [
       "(20642, 14)"
      ]
     },
     "execution_count": 611,
     "metadata": {},
     "output_type": "execute_result"
    }
   ],
   "source": [
    "f1.shape"
   ]
  },
  {
   "cell_type": "code",
   "execution_count": 612,
   "metadata": {},
   "outputs": [
    {
     "name": "stdout",
     "output_type": "stream",
     "text": [
      "<class 'pandas.core.frame.DataFrame'>\n",
      "RangeIndex: 20642 entries, 0 to 20641\n",
      "Data columns (total 14 columns):\n",
      " #   Column       Non-Null Count  Dtype \n",
      "---  ------       --------------  ----- \n",
      " 0   SERIAL       20642 non-null  object\n",
      " 1   TIME         20642 non-null  object\n",
      " 2   MARKS        16147 non-null  object\n",
      " 3    SOME        2840 non-null   object\n",
      " 4   RESULT       20642 non-null  object\n",
      " 5   QUANT        20642 non-null  object\n",
      " 6   SCORE        20642 non-null  object\n",
      " 7   SPECIALITY   20642 non-null  object\n",
      " 8   TEAM         20642 non-null  object\n",
      " 9   TAGS         20642 non-null  object\n",
      " 10  DEPARTMENT   20642 non-null  object\n",
      " 11  STATE        20642 non-null  object\n",
      " 12  Unnamed: 12  1 non-null      object\n",
      " 13  Unnamed: 13  1 non-null      object\n",
      "dtypes: object(14)\n",
      "memory usage: 2.2+ MB\n"
     ]
    }
   ],
   "source": [
    "f1.info()"
   ]
  },
  {
   "cell_type": "code",
   "execution_count": 613,
   "metadata": {},
   "outputs": [
    {
     "name": "stderr",
     "output_type": "stream",
     "text": [
      "C:\\Users\\pavan\\AppData\\Local\\Temp\\ipykernel_14668\\756431700.py:1: FutureWarning: The default value of numeric_only in DataFrame.sum is deprecated. In a future version, it will default to False. In addition, specifying 'numeric_only=None' is deprecated. Select only valid columns or specify the value of numeric_only to silence this warning.\n",
      "  f1.sum()\n"
     ]
    },
    {
     "data": {
      "text/plain": [
       "SERIAL        Series_referenceBDCQ.SEA1AABDCQ.SEA1AABDCQ.SEA...\n",
       "TIME          Period2011.062011.092011.122012.032012.062012....\n",
       "RESULT        STATUSFFFFFFFFFFFFFFFFFFFFFFFFFFFFFFFFFFFFFFFF...\n",
       "QUANT         UNITSNumberNumberNumberNumberNumberNumberNumbe...\n",
       "SCORE         Magnitude0000000000000000000000000000000000000...\n",
       "SPECIALITY    SubjectBusiness Data Collection - BDCBusiness ...\n",
       "TEAM          GroupIndustry by employment variableIndustry b...\n",
       "TAGS          Series_title_1Filled jobsFilled jobsFilled job...\n",
       "DEPARTMENT    Series_title_2Agriculture, Forestry and Fishin...\n",
       "STATE         Series_title_3ActualActualActualActualActualAc...\n",
       "dtype: object"
      ]
     },
     "execution_count": 613,
     "metadata": {},
     "output_type": "execute_result"
    }
   ],
   "source": [
    "f1.sum()"
   ]
  },
  {
   "cell_type": "code",
   "execution_count": 614,
   "metadata": {},
   "outputs": [
    {
     "data": {
      "text/html": [
       "<div>\n",
       "<style scoped>\n",
       "    .dataframe tbody tr th:only-of-type {\n",
       "        vertical-align: middle;\n",
       "    }\n",
       "\n",
       "    .dataframe tbody tr th {\n",
       "        vertical-align: top;\n",
       "    }\n",
       "\n",
       "    .dataframe thead th {\n",
       "        text-align: right;\n",
       "    }\n",
       "</style>\n",
       "<table border=\"1\" class=\"dataframe\">\n",
       "  <thead>\n",
       "    <tr style=\"text-align: right;\">\n",
       "      <th></th>\n",
       "      <th>SERIAL</th>\n",
       "      <th>TIME</th>\n",
       "      <th>MARKS</th>\n",
       "      <th>SOME</th>\n",
       "      <th>RESULT</th>\n",
       "      <th>QUANT</th>\n",
       "      <th>SCORE</th>\n",
       "      <th>SPECIALITY</th>\n",
       "      <th>TEAM</th>\n",
       "      <th>TAGS</th>\n",
       "      <th>DEPARTMENT</th>\n",
       "      <th>STATE</th>\n",
       "      <th>Unnamed: 12</th>\n",
       "      <th>Unnamed: 13</th>\n",
       "    </tr>\n",
       "  </thead>\n",
       "  <tbody>\n",
       "    <tr>\n",
       "      <th>count</th>\n",
       "      <td>20642</td>\n",
       "      <td>20642</td>\n",
       "      <td>16147</td>\n",
       "      <td>2840</td>\n",
       "      <td>20642</td>\n",
       "      <td>20642</td>\n",
       "      <td>20642</td>\n",
       "      <td>20642</td>\n",
       "      <td>20642</td>\n",
       "      <td>20642</td>\n",
       "      <td>20642</td>\n",
       "      <td>20642</td>\n",
       "      <td>1</td>\n",
       "      <td>1</td>\n",
       "    </tr>\n",
       "    <tr>\n",
       "      <th>unique</th>\n",
       "      <td>463</td>\n",
       "      <td>47</td>\n",
       "      <td>14447</td>\n",
       "      <td>2</td>\n",
       "      <td>4</td>\n",
       "      <td>3</td>\n",
       "      <td>3</td>\n",
       "      <td>2</td>\n",
       "      <td>6</td>\n",
       "      <td>4</td>\n",
       "      <td>117</td>\n",
       "      <td>4</td>\n",
       "      <td>1</td>\n",
       "      <td>1</td>\n",
       "    </tr>\n",
       "    <tr>\n",
       "      <th>top</th>\n",
       "      <td>BDCQ.SED2RMA</td>\n",
       "      <td>2012.09</td>\n",
       "      <td>12459</td>\n",
       "      <td>Y</td>\n",
       "      <td>F</td>\n",
       "      <td>Number</td>\n",
       "      <td>0</td>\n",
       "      <td>Business Data Collection - BDC</td>\n",
       "      <td>Territorial authority by employment variable</td>\n",
       "      <td>Filled jobs</td>\n",
       "      <td>Auckland</td>\n",
       "      <td>Actual</td>\n",
       "      <td>Series_title_4</td>\n",
       "      <td>Series_title_5</td>\n",
       "    </tr>\n",
       "    <tr>\n",
       "      <th>freq</th>\n",
       "      <td>46</td>\n",
       "      <td>462</td>\n",
       "      <td>5</td>\n",
       "      <td>2839</td>\n",
       "      <td>14630</td>\n",
       "      <td>12496</td>\n",
       "      <td>12496</td>\n",
       "      <td>20641</td>\n",
       "      <td>9277</td>\n",
       "      <td>8649</td>\n",
       "      <td>446</td>\n",
       "      <td>14521</td>\n",
       "      <td>1</td>\n",
       "      <td>1</td>\n",
       "    </tr>\n",
       "  </tbody>\n",
       "</table>\n",
       "</div>"
      ],
      "text/plain": [
       "              SERIAL     TIME  MARKS  SOME RESULT   QUANT  SCORE  \\\n",
       "count          20642    20642  16147  2840  20642   20642  20642   \n",
       "unique           463       47  14447     2      4       3      3   \n",
       "top     BDCQ.SED2RMA  2012.09  12459     Y      F  Number      0   \n",
       "freq              46      462      5  2839  14630   12496  12496   \n",
       "\n",
       "                            SPECIALITY  \\\n",
       "count                            20642   \n",
       "unique                               2   \n",
       "top     Business Data Collection - BDC   \n",
       "freq                             20641   \n",
       "\n",
       "                                                TEAM         TAGS DEPARTMENT  \\\n",
       "count                                          20642        20642      20642   \n",
       "unique                                             6            4        117   \n",
       "top     Territorial authority by employment variable  Filled jobs   Auckland   \n",
       "freq                                            9277         8649        446   \n",
       "\n",
       "         STATE     Unnamed: 12     Unnamed: 13  \n",
       "count    20642               1               1  \n",
       "unique       4               1               1  \n",
       "top     Actual  Series_title_4  Series_title_5  \n",
       "freq     14521               1               1  "
      ]
     },
     "execution_count": 614,
     "metadata": {},
     "output_type": "execute_result"
    }
   ],
   "source": [
    "f1.describe()"
   ]
  },
  {
   "cell_type": "code",
   "execution_count": 615,
   "metadata": {},
   "outputs": [
    {
     "data": {
      "text/html": [
       "<div>\n",
       "<style scoped>\n",
       "    .dataframe tbody tr th:only-of-type {\n",
       "        vertical-align: middle;\n",
       "    }\n",
       "\n",
       "    .dataframe tbody tr th {\n",
       "        vertical-align: top;\n",
       "    }\n",
       "\n",
       "    .dataframe thead th {\n",
       "        text-align: right;\n",
       "    }\n",
       "</style>\n",
       "<table border=\"1\" class=\"dataframe\">\n",
       "  <thead>\n",
       "    <tr style=\"text-align: right;\">\n",
       "      <th></th>\n",
       "      <th>SERIAL</th>\n",
       "      <th>TIME</th>\n",
       "      <th>MARKS</th>\n",
       "      <th>SOME</th>\n",
       "      <th>RESULT</th>\n",
       "      <th>QUANT</th>\n",
       "      <th>SCORE</th>\n",
       "      <th>SPECIALITY</th>\n",
       "      <th>TEAM</th>\n",
       "      <th>TAGS</th>\n",
       "      <th>DEPARTMENT</th>\n",
       "      <th>STATE</th>\n",
       "      <th>Unnamed: 12</th>\n",
       "      <th>Unnamed: 13</th>\n",
       "    </tr>\n",
       "  </thead>\n",
       "  <tbody>\n",
       "    <tr>\n",
       "      <th>0</th>\n",
       "      <td>Series_reference</td>\n",
       "      <td>Period</td>\n",
       "      <td>Data_value</td>\n",
       "      <td>Suppressed</td>\n",
       "      <td>STATUS</td>\n",
       "      <td>UNITS</td>\n",
       "      <td>Magnitude</td>\n",
       "      <td>Subject</td>\n",
       "      <td>Group</td>\n",
       "      <td>Series_title_1</td>\n",
       "      <td>Series_title_2</td>\n",
       "      <td>Series_title_3</td>\n",
       "      <td>Series_title_4</td>\n",
       "      <td>Series_title_5</td>\n",
       "    </tr>\n",
       "    <tr>\n",
       "      <th>1</th>\n",
       "      <td>BDCQ.SEA1AA</td>\n",
       "      <td>2011.06</td>\n",
       "      <td>80078</td>\n",
       "      <td>NaN</td>\n",
       "      <td>F</td>\n",
       "      <td>Number</td>\n",
       "      <td>0</td>\n",
       "      <td>Business Data Collection - BDC</td>\n",
       "      <td>Industry by employment variable</td>\n",
       "      <td>Filled jobs</td>\n",
       "      <td>Agriculture, Forestry and Fishing</td>\n",
       "      <td>Actual</td>\n",
       "      <td>NaN</td>\n",
       "      <td>NaN</td>\n",
       "    </tr>\n",
       "    <tr>\n",
       "      <th>2</th>\n",
       "      <td>BDCQ.SEA1AA</td>\n",
       "      <td>2011.09</td>\n",
       "      <td>78324</td>\n",
       "      <td>NaN</td>\n",
       "      <td>F</td>\n",
       "      <td>Number</td>\n",
       "      <td>0</td>\n",
       "      <td>Business Data Collection - BDC</td>\n",
       "      <td>Industry by employment variable</td>\n",
       "      <td>Filled jobs</td>\n",
       "      <td>Agriculture, Forestry and Fishing</td>\n",
       "      <td>Actual</td>\n",
       "      <td>NaN</td>\n",
       "      <td>NaN</td>\n",
       "    </tr>\n",
       "    <tr>\n",
       "      <th>3</th>\n",
       "      <td>BDCQ.SEA1AA</td>\n",
       "      <td>2011.12</td>\n",
       "      <td>85850</td>\n",
       "      <td>NaN</td>\n",
       "      <td>F</td>\n",
       "      <td>Number</td>\n",
       "      <td>0</td>\n",
       "      <td>Business Data Collection - BDC</td>\n",
       "      <td>Industry by employment variable</td>\n",
       "      <td>Filled jobs</td>\n",
       "      <td>Agriculture, Forestry and Fishing</td>\n",
       "      <td>Actual</td>\n",
       "      <td>NaN</td>\n",
       "      <td>NaN</td>\n",
       "    </tr>\n",
       "    <tr>\n",
       "      <th>4</th>\n",
       "      <td>BDCQ.SEA1AA</td>\n",
       "      <td>2012.03</td>\n",
       "      <td>90743</td>\n",
       "      <td>NaN</td>\n",
       "      <td>F</td>\n",
       "      <td>Number</td>\n",
       "      <td>0</td>\n",
       "      <td>Business Data Collection - BDC</td>\n",
       "      <td>Industry by employment variable</td>\n",
       "      <td>Filled jobs</td>\n",
       "      <td>Agriculture, Forestry and Fishing</td>\n",
       "      <td>Actual</td>\n",
       "      <td>NaN</td>\n",
       "      <td>NaN</td>\n",
       "    </tr>\n",
       "  </tbody>\n",
       "</table>\n",
       "</div>"
      ],
      "text/plain": [
       "             SERIAL     TIME       MARKS        SOME  RESULT   QUANT  \\\n",
       "0  Series_reference   Period  Data_value  Suppressed  STATUS   UNITS   \n",
       "1       BDCQ.SEA1AA  2011.06       80078         NaN       F  Number   \n",
       "2       BDCQ.SEA1AA  2011.09       78324         NaN       F  Number   \n",
       "3       BDCQ.SEA1AA  2011.12       85850         NaN       F  Number   \n",
       "4       BDCQ.SEA1AA  2012.03       90743         NaN       F  Number   \n",
       "\n",
       "       SCORE                      SPECIALITY                             TEAM  \\\n",
       "0  Magnitude                         Subject                            Group   \n",
       "1          0  Business Data Collection - BDC  Industry by employment variable   \n",
       "2          0  Business Data Collection - BDC  Industry by employment variable   \n",
       "3          0  Business Data Collection - BDC  Industry by employment variable   \n",
       "4          0  Business Data Collection - BDC  Industry by employment variable   \n",
       "\n",
       "             TAGS                         DEPARTMENT           STATE  \\\n",
       "0  Series_title_1                     Series_title_2  Series_title_3   \n",
       "1     Filled jobs  Agriculture, Forestry and Fishing          Actual   \n",
       "2     Filled jobs  Agriculture, Forestry and Fishing          Actual   \n",
       "3     Filled jobs  Agriculture, Forestry and Fishing          Actual   \n",
       "4     Filled jobs  Agriculture, Forestry and Fishing          Actual   \n",
       "\n",
       "      Unnamed: 12     Unnamed: 13  \n",
       "0  Series_title_4  Series_title_5  \n",
       "1             NaN             NaN  \n",
       "2             NaN             NaN  \n",
       "3             NaN             NaN  \n",
       "4             NaN             NaN  "
      ]
     },
     "execution_count": 615,
     "metadata": {},
     "output_type": "execute_result"
    }
   ],
   "source": [
    "f1.head()"
   ]
  },
  {
   "cell_type": "code",
   "execution_count": 618,
   "metadata": {},
   "outputs": [
    {
     "ename": "TypeError",
     "evalue": "no numeric data to plot",
     "output_type": "error",
     "traceback": [
      "\u001b[1;31m---------------------------------------------------------------------------\u001b[0m",
      "\u001b[1;31mTypeError\u001b[0m                                 Traceback (most recent call last)",
      "Cell \u001b[1;32mIn[618], line 1\u001b[0m\n\u001b[1;32m----> 1\u001b[0m f1\u001b[39m.\u001b[39;49mplot()\n",
      "File \u001b[1;32mc:\\Users\\pavan\\AppData\\Local\\Programs\\Python\\Python310\\lib\\site-packages\\pandas\\plotting\\_core.py:1000\u001b[0m, in \u001b[0;36mPlotAccessor.__call__\u001b[1;34m(self, *args, **kwargs)\u001b[0m\n\u001b[0;32m    997\u001b[0m             label_name \u001b[39m=\u001b[39m label_kw \u001b[39mor\u001b[39;00m data\u001b[39m.\u001b[39mcolumns\n\u001b[0;32m    998\u001b[0m             data\u001b[39m.\u001b[39mcolumns \u001b[39m=\u001b[39m label_name\n\u001b[1;32m-> 1000\u001b[0m \u001b[39mreturn\u001b[39;00m plot_backend\u001b[39m.\u001b[39mplot(data, kind\u001b[39m=\u001b[39mkind, \u001b[39m*\u001b[39m\u001b[39m*\u001b[39mkwargs)\n",
      "File \u001b[1;32mc:\\Users\\pavan\\AppData\\Local\\Programs\\Python\\Python310\\lib\\site-packages\\pandas\\plotting\\_matplotlib\\__init__.py:71\u001b[0m, in \u001b[0;36mplot\u001b[1;34m(data, kind, **kwargs)\u001b[0m\n\u001b[0;32m     69\u001b[0m         kwargs[\u001b[39m\"\u001b[39m\u001b[39max\u001b[39m\u001b[39m\"\u001b[39m] \u001b[39m=\u001b[39m \u001b[39mgetattr\u001b[39m(ax, \u001b[39m\"\u001b[39m\u001b[39mleft_ax\u001b[39m\u001b[39m\"\u001b[39m, ax)\n\u001b[0;32m     70\u001b[0m plot_obj \u001b[39m=\u001b[39m PLOT_CLASSES[kind](data, \u001b[39m*\u001b[39m\u001b[39m*\u001b[39mkwargs)\n\u001b[1;32m---> 71\u001b[0m plot_obj\u001b[39m.\u001b[39;49mgenerate()\n\u001b[0;32m     72\u001b[0m plot_obj\u001b[39m.\u001b[39mdraw()\n\u001b[0;32m     73\u001b[0m \u001b[39mreturn\u001b[39;00m plot_obj\u001b[39m.\u001b[39mresult\n",
      "File \u001b[1;32mc:\\Users\\pavan\\AppData\\Local\\Programs\\Python\\Python310\\lib\\site-packages\\pandas\\plotting\\_matplotlib\\core.py:450\u001b[0m, in \u001b[0;36mMPLPlot.generate\u001b[1;34m(self)\u001b[0m\n\u001b[0;32m    448\u001b[0m \u001b[39mdef\u001b[39;00m \u001b[39mgenerate\u001b[39m(\u001b[39mself\u001b[39m) \u001b[39m-\u001b[39m\u001b[39m>\u001b[39m \u001b[39mNone\u001b[39;00m:\n\u001b[0;32m    449\u001b[0m     \u001b[39mself\u001b[39m\u001b[39m.\u001b[39m_args_adjust()\n\u001b[1;32m--> 450\u001b[0m     \u001b[39mself\u001b[39;49m\u001b[39m.\u001b[39;49m_compute_plot_data()\n\u001b[0;32m    451\u001b[0m     \u001b[39mself\u001b[39m\u001b[39m.\u001b[39m_setup_subplots()\n\u001b[0;32m    452\u001b[0m     \u001b[39mself\u001b[39m\u001b[39m.\u001b[39m_make_plot()\n",
      "File \u001b[1;32mc:\\Users\\pavan\\AppData\\Local\\Programs\\Python\\Python310\\lib\\site-packages\\pandas\\plotting\\_matplotlib\\core.py:635\u001b[0m, in \u001b[0;36mMPLPlot._compute_plot_data\u001b[1;34m(self)\u001b[0m\n\u001b[0;32m    633\u001b[0m \u001b[39m# no non-numeric frames or series allowed\u001b[39;00m\n\u001b[0;32m    634\u001b[0m \u001b[39mif\u001b[39;00m is_empty:\n\u001b[1;32m--> 635\u001b[0m     \u001b[39mraise\u001b[39;00m \u001b[39mTypeError\u001b[39;00m(\u001b[39m\"\u001b[39m\u001b[39mno numeric data to plot\u001b[39m\u001b[39m\"\u001b[39m)\n\u001b[0;32m    637\u001b[0m \u001b[39mself\u001b[39m\u001b[39m.\u001b[39mdata \u001b[39m=\u001b[39m numeric_data\u001b[39m.\u001b[39mapply(\u001b[39mself\u001b[39m\u001b[39m.\u001b[39m_convert_to_ndarray)\n",
      "\u001b[1;31mTypeError\u001b[0m: no numeric data to plot"
     ]
    }
   ],
   "source": [
    "\n",
    "f1.plot()"
   ]
  }
 ],
 "metadata": {
  "kernelspec": {
   "display_name": "Python 3",
   "language": "python",
   "name": "python3"
  },
  "language_info": {
   "codemirror_mode": {
    "name": "ipython",
    "version": 3
   },
   "file_extension": ".py",
   "mimetype": "text/x-python",
   "name": "python",
   "nbconvert_exporter": "python",
   "pygments_lexer": "ipython3",
   "version": "3.10.1"
  },
  "orig_nbformat": 4,
  "vscode": {
   "interpreter": {
    "hash": "9c8f51c2bcd99038a123efae1ee7756ea171a50d229ddf75d24cb86cabf1426c"
   }
  }
 },
 "nbformat": 4,
 "nbformat_minor": 2
}
